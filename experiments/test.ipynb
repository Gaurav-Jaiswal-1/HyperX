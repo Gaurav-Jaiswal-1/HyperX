{
 "cells": [
  {
   "cell_type": "code",
   "execution_count": 5,
   "metadata": {},
   "outputs": [],
   "source": [
    "import tensorflow as tf\n",
    "\n",
    "class HyperXActivationTF(tf.keras.layers.Layer):\n",
    "    def __init__(self, k=1.0, **kwargs):\n",
    "        super(HyperXActivationTF, self).__init__(**kwargs)\n",
    "        self.k = k\n",
    "\n",
    "    def call(self, inputs):\n",
    "        # Replace NaN values with 0\n",
    "        inputs = tf.where(tf.math.is_nan(inputs), tf.zeros_like(inputs), inputs)\n",
    "        # Replace Inf values with a large number (positive or negative)\n",
    "        inputs = tf.where(tf.math.is_inf(inputs), tf.sign(inputs) * 1e10, inputs)\n",
    "        # Apply the activation function\n",
    "        result = inputs * tf.tanh(self.k * inputs)\n",
    "        # Ensure no NaN values in the result\n",
    "        return tf.where(tf.math.is_nan(result), tf.zeros_like(result), result)\n"
   ]
  },
  {
   "cell_type": "code",
   "execution_count": 6,
   "metadata": {},
   "outputs": [],
   "source": [
    "import torch\n",
    "import torch.nn as nn\n",
    "\n",
    "class HyperXActivationTorch(nn.Module):\n",
    "    def __init__(self, k=1.0):\n",
    "        super(HyperXActivationTorch, self).__init__()\n",
    "        self.k = k\n",
    "\n",
    "    def forward(self, x):\n",
    "        # Replace NaN values with 0\n",
    "        x = torch.where(torch.isnan(x), torch.zeros_like(x), x)\n",
    "        # Replace Inf values with a large number (positive or negative)\n",
    "        x = torch.where(torch.isinf(x), torch.sign(x) * 1e10, x)\n",
    "        # Apply the activation function\n",
    "        result = x * torch.tanh(self.k * x)\n",
    "        # Ensure no NaN values in the result\n",
    "        return torch.where(torch.isnan(result), torch.zeros_like(result), result)\n"
   ]
  },
  {
   "cell_type": "code",
   "execution_count": 7,
   "metadata": {},
   "outputs": [
    {
     "name": "stdout",
     "output_type": "stream",
     "text": [
      "TensorFlow Input:\n",
      " [[ inf -inf]\n",
      " [  0.  nan]]\n",
      "TensorFlow Output:\n",
      " [[1.e+10 1.e+10]\n",
      " [0.e+00 0.e+00]]\n",
      "PyTorch Input:\n",
      " tensor([[inf, -inf],\n",
      "        [0., nan]])\n",
      "PyTorch Output:\n",
      " tensor([[1.0000e+10, 1.0000e+10],\n",
      "        [0.0000e+00, 0.0000e+00]])\n"
     ]
    }
   ],
   "source": [
    "import numpy as np\n",
    "\n",
    "# TensorFlow Test\n",
    "def test_tensorflow_hyperx():\n",
    "    activation = HyperXActivationTF(k=1.0)\n",
    "    x = tf.constant([[float(\"inf\"), -float(\"inf\")], [0.0, float(\"nan\")]])\n",
    "    result = activation(x)\n",
    "    print(\"TensorFlow Input:\\n\", x.numpy())\n",
    "    print(\"TensorFlow Output:\\n\", result.numpy())\n",
    "    assert not tf.reduce_any(tf.math.is_nan(result)), \"NaN values in TensorFlow output!\"\n",
    "    assert not tf.reduce_any(tf.math.is_inf(result)), \"Inf values in TensorFlow output!\"\n",
    "\n",
    "# PyTorch Test\n",
    "def test_pytorch_hyperx():\n",
    "    activation = HyperXActivationTorch(k=1.0)\n",
    "    x = torch.tensor([[float(\"inf\"), -float(\"inf\")], [0.0, float(\"nan\")]])\n",
    "    result = activation(x)\n",
    "    print(\"PyTorch Input:\\n\", x)\n",
    "    print(\"PyTorch Output:\\n\", result)\n",
    "    assert not torch.any(torch.isnan(result)), \"NaN values in PyTorch output!\"\n",
    "    assert not torch.any(torch.isinf(result)), \"Inf values in PyTorch output!\"\n",
    "\n",
    "# Run Tests\n",
    "test_tensorflow_hyperx()\n",
    "test_pytorch_hyperx()\n"
   ]
  },
  {
   "cell_type": "code",
   "execution_count": null,
   "metadata": {},
   "outputs": [],
   "source": []
  }
 ],
 "metadata": {
  "kernelspec": {
   "display_name": ".venv",
   "language": "python",
   "name": "python3"
  },
  "language_info": {
   "codemirror_mode": {
    "name": "ipython",
    "version": 3
   },
   "file_extension": ".py",
   "mimetype": "text/x-python",
   "name": "python",
   "nbconvert_exporter": "python",
   "pygments_lexer": "ipython3",
   "version": "3.8.10"
  }
 },
 "nbformat": 4,
 "nbformat_minor": 2
}
